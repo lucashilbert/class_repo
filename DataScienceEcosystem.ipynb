{
 "cells": [
  {
   "cell_type": "markdown",
   "id": "4811e096-bdc8-4aef-acb1-7485937e7c7e",
   "metadata": {},
   "source": [
    "# Data Science Tools and Ecosystem"
   ]
  },
  {
   "cell_type": "markdown",
   "id": "b94e6d2c-d264-48e8-a1f0-8eea681de596",
   "metadata": {},
   "source": [
    "### In this notebook, Data Science Tools and Ecosystems are summarized."
   ]
  },
  {
   "cell_type": "markdown",
   "id": "fb274920-f3c2-4584-b95e-df25532f5901",
   "metadata": {},
   "source": [
    "### Some of the keytakeaways from this course include: \n",
    "\n",
    "__Objectives:__\n",
    "* Tools for Data Science\n",
    "* Data Science Methodology\n",
    "* Python for Data Science\n",
    "* SQL and Databases\n",
    "* Naturual Language Toolkits\n",
    "\n",
    "\n"
   ]
  },
  {
   "cell_type": "markdown",
   "id": "d26e2f2d-279d-47b3-bf49-5b4cefb01133",
   "metadata": {},
   "source": [
    "### Some of the popular languages that Data Scientists use are: \n",
    "\n",
    "1. Python\n",
    "2. R\n",
    "3. Julia\n",
    "4. Java\n",
    "5. SQL"
   ]
  },
  {
   "cell_type": "markdown",
   "id": "4170da65-a5da-4576-8387-e6aa4ffd0ca9",
   "metadata": {},
   "source": [
    "### Some of the commmonly used libraries by Data Scientists include: \n",
    "\n",
    "1. Pandas (Python)\n",
    "2. NumPy (Python)\n",
    "3. Caret (R)\n",
    "4. ggplot2 (R)"
   ]
  },
  {
   "cell_type": "markdown",
   "id": "c77f20ea-1b92-40a9-b694-1481e3c81942",
   "metadata": {
    "jupyter": {
     "source_hidden": true
    }
   },
   "source": [
    "|Data Science Tools|\n",
    "|---------------|\n",
    "|Anaconda|\n",
    "|RStudio|\n",
    "|GoogleColab|"
   ]
  },
  {
   "cell_type": "markdown",
   "id": "65a9bdb1-34ca-48da-82d1-0bd39dd0365c",
   "metadata": {},
   "source": [
    "### Below are a few examples of evaluating arithmetic expressions in Python"
   ]
  },
  {
   "cell_type": "markdown",
   "id": "b0f94bc7-b981-42c7-98ef-bc77ae2c5abf",
   "metadata": {},
   "source": [
    "#### This is a simple arithmetic expression to multiply then add integers\n"
   ]
  },
  {
   "cell_type": "code",
   "execution_count": 12,
   "id": "48f93fb1-8f4c-40cf-be47-0bc6b11da175",
   "metadata": {},
   "outputs": [
    {
     "data": {
      "text/plain": [
       "17"
      ]
     },
     "execution_count": 12,
     "metadata": {},
     "output_type": "execute_result"
    }
   ],
   "source": [
    "(3*4)+5"
   ]
  },
  {
   "cell_type": "markdown",
   "id": "d24ef980-4cdd-44bf-a52d-8ab3e4a6cbf5",
   "metadata": {},
   "source": [
    "#### This will convert 200 minutes to hours by diving by 60."
   ]
  },
  {
   "cell_type": "code",
   "execution_count": 13,
   "id": "5b13cb34-b28c-4e04-bd0f-077df6eec4bf",
   "metadata": {},
   "outputs": [
    {
     "data": {
      "text/plain": [
       "3.3333333333333335"
      ]
     },
     "execution_count": 13,
     "metadata": {},
     "output_type": "execute_result"
    }
   ],
   "source": [
    "200/60"
   ]
  },
  {
   "cell_type": "markdown",
   "id": "b08fd26c-157c-4d68-b324-a8e56c317663",
   "metadata": {},
   "source": [
    "## Author\n",
    "\n",
    "## Lucas Hilbert"
   ]
  }
 ],
 "metadata": {
  "kernelspec": {
   "display_name": "Python 3 (ipykernel)",
   "language": "python",
   "name": "python3"
  },
  "language_info": {
   "codemirror_mode": {
    "name": "ipython",
    "version": 3
   },
   "file_extension": ".py",
   "mimetype": "text/x-python",
   "name": "python",
   "nbconvert_exporter": "python",
   "pygments_lexer": "ipython3",
   "version": "3.12.7"
  }
 },
 "nbformat": 4,
 "nbformat_minor": 5
}
